{
 "cells": [
  {
   "cell_type": "markdown",
   "metadata": {},
   "source": [
    "## Slope Data Acquisition & Preprocess"
   ]
  },
  {
   "cell_type": "code",
   "execution_count": null,
   "metadata": {},
   "outputs": [],
   "source": [
    "import pandas as pd\n",
    "import geopandas as gpd\n",
    "import numpy as np\n",
    "import matplotlib.pyplot as plt\n",
    "import cartopy.crs as ccrs\n",
    "crs = {'init': 'epsg:4326'}"
   ]
  },
  {
   "cell_type": "markdown",
   "metadata": {},
   "source": [
    "#### Open the full climatology dataset"
   ]
  },
  {
   "cell_type": "code",
   "execution_count": null,
   "metadata": {},
   "outputs": [],
   "source": [
    "df = pd.read_csv('Full_Climatology.csv')\n",
    "del df['Unnamed: 0']\n",
    "gdf = gpd.GeoDataFrame(df, crs=crs, geometry = gpd.points_from_xy(df.Longitude, df.Latitude))\n",
    "del df"
   ]
  },
  {
   "cell_type": "code",
   "execution_count": null,
   "metadata": {},
   "outputs": [],
   "source": [
    "#it is a huge data set with more than 1.5 million datapoints\n",
    "#filter the gdf and keep only the entries with frd > 5\n",
    "gdf = gdf[gdf.VHRFC_LIS_FRD > 5]\n",
    "gdf"
   ]
  },
  {
   "cell_type": "markdown",
   "metadata": {},
   "source": [
    "#### Connect to Google Engine and extract elevation"
   ]
  },
  {
   "cell_type": "code",
   "execution_count": 2,
   "metadata": {},
   "outputs": [
    {
     "name": "stdout",
     "output_type": "stream",
     "text": [
      "0.1.223\n"
     ]
    }
   ],
   "source": [
    "import ee\n",
    "print(ee.__version__)"
   ]
  },
  {
   "cell_type": "code",
   "execution_count": 3,
   "metadata": {},
   "outputs": [
    {
     "data": {
      "text/html": [
       "<p>To authorize access needed by Earth Engine, open the following\n",
       "        URL in a web browser and follow the instructions:</p>\n",
       "        <p><a href=https://accounts.google.com/o/oauth2/auth?client_id=517222506229-vsmmajv00ul0bs7p89v5m89qs8eb9359.apps.googleusercontent.com&scope=https%3A%2F%2Fwww.googleapis.com%2Fauth%2Fearthengine+https%3A%2F%2Fwww.googleapis.com%2Fauth%2Fdevstorage.full_control&redirect_uri=urn%3Aietf%3Awg%3Aoauth%3A2.0%3Aoob&response_type=code&code_challenge=bawbZPiNILkzuVmp7ESigDO44PzPlS5WGuY3xPtbJLw&code_challenge_method=S256>https://accounts.google.com/o/oauth2/auth?client_id=517222506229-vsmmajv00ul0bs7p89v5m89qs8eb9359.apps.googleusercontent.com&scope=https%3A%2F%2Fwww.googleapis.com%2Fauth%2Fearthengine+https%3A%2F%2Fwww.googleapis.com%2Fauth%2Fdevstorage.full_control&redirect_uri=urn%3Aietf%3Awg%3Aoauth%3A2.0%3Aoob&response_type=code&code_challenge=bawbZPiNILkzuVmp7ESigDO44PzPlS5WGuY3xPtbJLw&code_challenge_method=S256</a></p>\n",
       "        <p>The authorization workflow will generate a code, which you\n",
       "        should paste in the box below</p>\n",
       "        "
      ],
      "text/plain": [
       "<IPython.core.display.HTML object>"
      ]
     },
     "metadata": {},
     "output_type": "display_data"
    },
    {
     "name": "stdout",
     "output_type": "stream",
     "text": [
      "Enter verification code: 4/1wFRS2PCwqkpNRLktbJ2TGZGEhdtra2l6G04AwL37D-3yH4zA5HgbvQ\n",
      "\n",
      "Successfully saved authorization token.\n"
     ]
    }
   ],
   "source": [
    "# Trigger the authentication flow.\n",
    "ee.Authenticate()\n",
    "\n",
    "# Initialize the library.\n",
    "ee.Initialize()"
   ]
  },
  {
   "cell_type": "code",
   "execution_count": 4,
   "metadata": {},
   "outputs": [
    {
     "name": "stdout",
     "output_type": "stream",
     "text": [
      "Mount Everest elevation (m): 8678\n"
     ]
    }
   ],
   "source": [
    "# Check/Print the elevation of Mount Everest.\n",
    "dem = ee.Image('USGS/SRTMGL1_003')\n",
    "xy = ee.Geometry.Point([86.924046, 27.987818])\n",
    "elev = dem.sample(xy, 30).first().get('elevation').getInfo()\n",
    "print('Mount Everest elevation (m):', elev)"
   ]
  },
  {
   "cell_type": "code",
   "execution_count": 6,
   "metadata": {},
   "outputs": [
    {
     "data": {
      "text/html": [
       "<img src=\"https://earthengine.googleapis.com/v1alpha/projects/earthengine-legacy/thumbnails/59fe0cee6bcc42f62327f5f8a39a9b7c-8ae7ce2a5ca5b466c3c9038330479528:getPixels\"/>"
      ],
      "text/plain": [
       "<IPython.core.display.Image object>"
      ]
     },
     "execution_count": 6,
     "metadata": {},
     "output_type": "execute_result"
    }
   ],
   "source": [
    "# Get the global Slope\n",
    "slope = ee.Terrain.slope(dem); # here we have the information fro slope\n",
    "from IPython.display import Image\n",
    "\n",
    "# Display a thumbnail of global slope.\n",
    "Image(url = slope.updateMask(slope.gt(0))\n",
    "  .getThumbUrl({'min': 0, 'max': 5, 'dimensions': 712,\n",
    "                'palette': ['006633', 'E5FFCC', '662A00', 'D8D8D8', 'F5F5F5']}))"
   ]
  },
  {
   "cell_type": "code",
   "execution_count": null,
   "metadata": {},
   "outputs": [],
   "source": []
  },
  {
   "cell_type": "code",
   "execution_count": null,
   "metadata": {},
   "outputs": [],
   "source": [
    "%%time\n",
    "\n",
    "\n",
    "#get a copy of the geodatafame and add an empty column for the slope\n",
    "gdf_c = gdf.copy()\n",
    "gdf_c['slope'] = \"\"\n",
    "\n",
    "#for some coordinates there is no slope info: bypass these rows and continue to the next set of coordinates\n",
    "#add each slope to the corresponding place in the geodataframe\n",
    "for x,y,i in zip(gdf_c.Longitude, gdf_c.Latitude, range(gdf_c.shape[0])):\n",
    "    point = ee.Geometry.Point([x, y])\n",
    "    try:\n",
    "        gdf_c['slope'].iloc[i] = slope.sample(point, 30).first().get('slope').getInfo()\n",
    "    except:\n",
    "        continue\n",
    "\n",
    "gdf_nan = gdf_c.replace('', np.nan)"
   ]
  },
  {
   "cell_type": "code",
   "execution_count": null,
   "metadata": {},
   "outputs": [],
   "source": [
    "#check for missing slope data (from originally missing values)= NaN\n",
    "\n",
    "import seaborn as sns\n",
    "sns_plot = sns.heatmap(gdf_nan.isna(),yticklabels=False,cbar=False, cmap='viridis')\n",
    "\n",
    "fig = sns_plot.get_figure()\n",
    "\n",
    "fig.savefig('missing_values.png')\n",
    "\n",
    "print(\"missed data for slope: {} datapoints, {}% of the data\".format(gdf[gdf.slope.isna()].shape[0], round(gdf[gdf.slope.isna()].shape[0] / gdf.shape[0] *100,1)))"
   ]
  },
  {
   "cell_type": "code",
   "execution_count": null,
   "metadata": {},
   "outputs": [],
   "source": [
    "gdf_clean = gdf_nan.dropna()\n",
    "\n",
    "gdf_clean.to_csv('slope_gdf.csv')"
   ]
  },
  {
   "cell_type": "code",
   "execution_count": null,
   "metadata": {},
   "outputs": [],
   "source": [
    "gdf_clean"
   ]
  },
  {
   "cell_type": "code",
   "execution_count": null,
   "metadata": {},
   "outputs": [],
   "source": [
    "#probably we do not need that\n",
    "#check the negative elevation values\n",
    "gdf_neg = gdf_clean[gdf_clean.slope < 0]\n",
    "\n",
    "from matplotlib.colors import LogNorm\n",
    "plt.close('all')\n",
    "\n",
    "f = plt.figure(figsize=(15,10)) \n",
    "ax = f.add_subplot(111, projection=ccrs.PlateCarree())\n",
    "ax.set_extent([-180, 180,-90, 90])\n",
    "ax.coastlines()\n",
    "\n",
    "img = ax.scatter(gdf_neg.Longitude, gdf_neg.Latitude, s=gdf_neg.VHRFC_LIS_FRD*10, c=gdf_neg.VHRFC_LIS_FRD, cmap=plt.cm.rainbow, norm=LogNorm())\n",
    "ax.set_title('Places with negative elevation values and their flash rates', fontsize=20)\n",
    "cb = plt.colorbar(img, orientation='horizontal', pad=0.05, aspect = 50) \n",
    "cb.set_label('Flash rate density (flashes / km2 year)', fontsize=14) \n",
    "\n",
    "plt.savefig('Map with negative elevation.png', bbox_inches='tight')\n",
    "\n",
    "plt.show()"
   ]
  },
  {
   "cell_type": "code",
   "execution_count": null,
   "metadata": {},
   "outputs": [],
   "source": [
    "gdf_neg.sort_values(by='slope')"
   ]
  }
 ],
 "metadata": {
  "kernelspec": {
   "display_name": "Python 3 (ipykernel)",
   "language": "python",
   "name": "python3"
  },
  "language_info": {
   "codemirror_mode": {
    "name": "ipython",
    "version": 3
   },
   "file_extension": ".py",
   "mimetype": "text/x-python",
   "name": "python",
   "nbconvert_exporter": "python",
   "pygments_lexer": "ipython3",
   "version": "3.8.12"
  },
  "toc": {
   "base_numbering": 1,
   "nav_menu": {},
   "number_sections": true,
   "sideBar": true,
   "skip_h1_title": false,
   "title_cell": "Table of Contents",
   "title_sidebar": "Contents",
   "toc_cell": false,
   "toc_position": {},
   "toc_section_display": true,
   "toc_window_display": false
  },
  "varInspector": {
   "cols": {
    "lenName": 16,
    "lenType": 16,
    "lenVar": 40
   },
   "kernels_config": {
    "python": {
     "delete_cmd_postfix": "",
     "delete_cmd_prefix": "del ",
     "library": "var_list.py",
     "varRefreshCmd": "print(var_dic_list())"
    },
    "r": {
     "delete_cmd_postfix": ") ",
     "delete_cmd_prefix": "rm(",
     "library": "var_list.r",
     "varRefreshCmd": "cat(var_dic_list()) "
    }
   },
   "types_to_exclude": [
    "module",
    "function",
    "builtin_function_or_method",
    "instance",
    "_Feature"
   ],
   "window_display": false
  }
 },
 "nbformat": 4,
 "nbformat_minor": 4
}
