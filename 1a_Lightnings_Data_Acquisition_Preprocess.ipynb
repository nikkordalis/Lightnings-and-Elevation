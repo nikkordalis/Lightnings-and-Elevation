{
 "cells": [
  {
   "cell_type": "markdown",
   "metadata": {
    "id": "aWM2cMzsPh7O"
   },
   "source": [
    "## Data Acquisition & Preprocess for Lightning datasets (netCDF files)\n"
   ]
  },
  {
   "cell_type": "code",
   "execution_count": null,
   "metadata": {
    "id": "doOv8EgePh7Z"
   },
   "outputs": [],
   "source": [
    "from netCDF4 import Dataset\n",
    "import numpy as np\n",
    "import pandas as pd\n",
    "import geopandas as gpd\n",
    "import matplotlib.pyplot as plt\n",
    "import cartopy.crs as ccrs\n",
    "crs = {'init': 'epsg:4326'}"
   ]
  },
  {
   "cell_type": "markdown",
   "metadata": {
    "id": "ReuPApduPh7a"
   },
   "source": [
    "### Tranformation between original and gridded coordinates"
   ]
  },
  {
   "cell_type": "code",
   "execution_count": null,
   "metadata": {
    "id": "pFQbwKu_Ph7a"
   },
   "outputs": [],
   "source": [
    "#create two functions to tranfrorm the coords back and forth\n",
    "res = 0.1   #climatology = 0.5,  LRMTS = 2.5\n",
    "zone = 38   #climatology = 38,   LRMTS = 90\n",
    "\n",
    "def gridded_latlon(real_lat, real_lon):\n",
    "    grid_lat = round((real_lat + zone)/res)\n",
    "    grid_lon = round((real_lon + 180)/res)\n",
    "    print(grid_lat, grid_lon)\n",
    "    return grid_lat, grid_lon\n",
    "\n",
    "\n",
    "def real_latlon(grid_lat, grid_lon):\n",
    "    real_lat = grid_lat*res - zone\n",
    "    real_lon = grid_lon*res - 180\n",
    "    print(real_lat, real_lon)\n",
    "    return real_lat, real_lon"
   ]
  },
  {
   "cell_type": "code",
   "execution_count": null,
   "metadata": {
    "id": "zC3muPKYPh7b"
   },
   "outputs": [],
   "source": [
    "#initial file path\n",
    "file_path = './LIS_VHRES/data_climatology/'"
   ]
  },
  {
   "cell_type": "markdown",
   "metadata": {
    "id": "NRw9LTYfPh7c"
   },
   "source": [
    "### Full Climatology - reference spot and data in geodataframe"
   ]
  },
  {
   "cell_type": "code",
   "execution_count": null,
   "metadata": {
    "id": "K0js2lq1Ph7c"
   },
   "outputs": [],
   "source": [
    "frd = Dataset(file_path + 'VHRFC.nc', 'r').variables['VHRFC_LIS_FRD'][:].data"
   ]
  },
  {
   "cell_type": "markdown",
   "metadata": {
    "id": "geFv4M3DPh7d"
   },
   "source": [
    "#### Reference spot"
   ]
  },
  {
   "cell_type": "code",
   "execution_count": null,
   "metadata": {
    "id": "yz2TZ9lePh7d",
    "outputId": "9eeefecc-5048-4b3c-c740-0fd369ed80d0"
   },
   "outputs": [
    {
     "name": "stdout",
     "output_type": "stream",
     "text": [
      "9.700000000000003 -71.69999999999999\n",
      "The place with the highest flash rate density is at lat=10.0, lon=-72.0,\n",
      " with a mean of 233 flashes per year\n"
     ]
    }
   ],
   "source": [
    "#find the place with the highest flash rate density - keep it in mind as reference spot\n",
    "\n",
    "maximum  = int(round(np.amax(frd)))\n",
    "lat = np.where(frd == np.amax(frd))[0][0]\n",
    "lon = np.where(frd == np.amax(frd))[1][0]\n",
    "\n",
    "real_lat, real_lon = real_latlon(lat, lon)\n",
    "\n",
    "print('The place with the highest flash rate density is at lat={}, lon={},\\n with a mean of {} flashes per year'.format(round(real_lat), round(real_lon), maximum))"
   ]
  },
  {
   "cell_type": "markdown",
   "metadata": {
    "id": "ae_90lU_Ph7e"
   },
   "source": [
    "#### NC file to dataframe"
   ]
  },
  {
   "cell_type": "code",
   "execution_count": null,
   "metadata": {
    "id": "VBrzsLMSPh7f",
    "outputId": "682e8b9e-e828-4d7f-f7a6-a2c65e9132d4"
   },
   "outputs": [
    {
     "data": {
      "text/html": [
       "<div>\n",
       "<style scoped>\n",
       "    .dataframe tbody tr th:only-of-type {\n",
       "        vertical-align: middle;\n",
       "    }\n",
       "\n",
       "    .dataframe tbody tr th {\n",
       "        vertical-align: top;\n",
       "    }\n",
       "\n",
       "    .dataframe thead th {\n",
       "        text-align: right;\n",
       "    }\n",
       "</style>\n",
       "<table border=\"1\" class=\"dataframe\">\n",
       "  <thead>\n",
       "    <tr style=\"text-align: right;\">\n",
       "      <th></th>\n",
       "      <th>Latitude</th>\n",
       "      <th>Longitude</th>\n",
       "      <th>VHRFC_LIS_FRD</th>\n",
       "    </tr>\n",
       "  </thead>\n",
       "  <tbody>\n",
       "    <tr>\n",
       "      <th>0</th>\n",
       "      <td>-37.95</td>\n",
       "      <td>-178.75</td>\n",
       "      <td>0.906318</td>\n",
       "    </tr>\n",
       "    <tr>\n",
       "      <th>1</th>\n",
       "      <td>-37.95</td>\n",
       "      <td>-177.35</td>\n",
       "      <td>0.903004</td>\n",
       "    </tr>\n",
       "    <tr>\n",
       "      <th>2</th>\n",
       "      <td>-37.95</td>\n",
       "      <td>-177.25</td>\n",
       "      <td>0.902887</td>\n",
       "    </tr>\n",
       "    <tr>\n",
       "      <th>3</th>\n",
       "      <td>-37.95</td>\n",
       "      <td>-176.95</td>\n",
       "      <td>2.707332</td>\n",
       "    </tr>\n",
       "    <tr>\n",
       "      <th>4</th>\n",
       "      <td>-37.95</td>\n",
       "      <td>-176.45</td>\n",
       "      <td>0.940296</td>\n",
       "    </tr>\n",
       "    <tr>\n",
       "      <th>...</th>\n",
       "      <td>...</td>\n",
       "      <td>...</td>\n",
       "      <td>...</td>\n",
       "    </tr>\n",
       "    <tr>\n",
       "      <th>1515605</th>\n",
       "      <td>37.95</td>\n",
       "      <td>174.15</td>\n",
       "      <td>1.485078</td>\n",
       "    </tr>\n",
       "    <tr>\n",
       "      <th>1515606</th>\n",
       "      <td>37.95</td>\n",
       "      <td>174.75</td>\n",
       "      <td>1.173280</td>\n",
       "    </tr>\n",
       "    <tr>\n",
       "      <th>1515607</th>\n",
       "      <td>37.95</td>\n",
       "      <td>174.95</td>\n",
       "      <td>1.173879</td>\n",
       "    </tr>\n",
       "    <tr>\n",
       "      <th>1515608</th>\n",
       "      <td>37.95</td>\n",
       "      <td>175.05</td>\n",
       "      <td>1.486169</td>\n",
       "    </tr>\n",
       "    <tr>\n",
       "      <th>1515609</th>\n",
       "      <td>37.95</td>\n",
       "      <td>175.75</td>\n",
       "      <td>2.347237</td>\n",
       "    </tr>\n",
       "  </tbody>\n",
       "</table>\n",
       "<p>1515610 rows × 3 columns</p>\n",
       "</div>"
      ],
      "text/plain": [
       "         Latitude  Longitude  VHRFC_LIS_FRD\n",
       "0          -37.95    -178.75       0.906318\n",
       "1          -37.95    -177.35       0.903004\n",
       "2          -37.95    -177.25       0.902887\n",
       "3          -37.95    -176.95       2.707332\n",
       "4          -37.95    -176.45       0.940296\n",
       "...           ...        ...            ...\n",
       "1515605     37.95     174.15       1.485078\n",
       "1515606     37.95     174.75       1.173280\n",
       "1515607     37.95     174.95       1.173879\n",
       "1515608     37.95     175.05       1.486169\n",
       "1515609     37.95     175.75       2.347237\n",
       "\n",
       "[1515610 rows x 3 columns]"
      ]
     },
     "execution_count": 7,
     "metadata": {
      "tags": []
     },
     "output_type": "execute_result"
    }
   ],
   "source": [
    "#open multi-index nc file into dataframe\n",
    "import xarray as xr\n",
    "import netCDF4\n",
    "\n",
    "df = xr.open_dataset(file_path + 'VHRFC.nc').to_dataframe()\n",
    "df = df.reset_index(level=['Longitude', 'Latitude'])\n",
    "df = df[df.VHRFC_LIS_FRD > 0]\n",
    "del df['VHRFC_LIS_VT']\n",
    "df.reset_index(inplace=True, drop=True)\n",
    "df"
   ]
  },
  {
   "cell_type": "code",
   "execution_count": null,
   "metadata": {
    "id": "B1pq5uehPh7f"
   },
   "outputs": [],
   "source": [
    "#save it\n",
    "df.to_csv('Full_Climatology.csv') \n",
    "del df"
   ]
  },
  {
   "cell_type": "code",
   "execution_count": null,
   "metadata": {
    "id": "XsGHOVtEPh7g"
   },
   "outputs": [],
   "source": [
    "#open it\n",
    "df = pd.read_csv('Full_Climatology.csv')\n",
    "del df['Unnamed: 0']"
   ]
  },
  {
   "cell_type": "code",
   "execution_count": null,
   "metadata": {
    "id": "tzlD_DVrPh7g",
    "outputId": "1df501d6-ec9f-425d-f3c5-7ea50a81a522"
   },
   "outputs": [
    {
     "data": {
      "text/html": [
       "<div>\n",
       "<style scoped>\n",
       "    .dataframe tbody tr th:only-of-type {\n",
       "        vertical-align: middle;\n",
       "    }\n",
       "\n",
       "    .dataframe tbody tr th {\n",
       "        vertical-align: top;\n",
       "    }\n",
       "\n",
       "    .dataframe thead th {\n",
       "        text-align: right;\n",
       "    }\n",
       "</style>\n",
       "<table border=\"1\" class=\"dataframe\">\n",
       "  <thead>\n",
       "    <tr style=\"text-align: right;\">\n",
       "      <th></th>\n",
       "      <th>Latitude</th>\n",
       "      <th>Longitude</th>\n",
       "      <th>VHRFC_LIS_FRD</th>\n",
       "      <th>geometry</th>\n",
       "    </tr>\n",
       "  </thead>\n",
       "  <tbody>\n",
       "    <tr>\n",
       "      <th>0</th>\n",
       "      <td>-37.95</td>\n",
       "      <td>-143.25</td>\n",
       "      <td>11.821247</td>\n",
       "      <td>POINT (-143.25000 -37.95000)</td>\n",
       "    </tr>\n",
       "    <tr>\n",
       "      <th>1</th>\n",
       "      <td>-37.95</td>\n",
       "      <td>-70.25</td>\n",
       "      <td>10.962107</td>\n",
       "      <td>POINT (-70.25000 -37.95000)</td>\n",
       "    </tr>\n",
       "    <tr>\n",
       "      <th>2</th>\n",
       "      <td>-37.95</td>\n",
       "      <td>-64.85</td>\n",
       "      <td>5.436871</td>\n",
       "      <td>POINT (-64.85000 -37.95000)</td>\n",
       "    </tr>\n",
       "    <tr>\n",
       "      <th>3</th>\n",
       "      <td>-37.95</td>\n",
       "      <td>-64.65</td>\n",
       "      <td>5.594469</td>\n",
       "      <td>POINT (-64.65000 -37.95000)</td>\n",
       "    </tr>\n",
       "    <tr>\n",
       "      <th>4</th>\n",
       "      <td>-37.95</td>\n",
       "      <td>-63.65</td>\n",
       "      <td>6.793575</td>\n",
       "      <td>POINT (-63.65000 -37.95000)</td>\n",
       "    </tr>\n",
       "    <tr>\n",
       "      <th>...</th>\n",
       "      <td>...</td>\n",
       "      <td>...</td>\n",
       "      <td>...</td>\n",
       "      <td>...</td>\n",
       "    </tr>\n",
       "    <tr>\n",
       "      <th>500997</th>\n",
       "      <td>37.95</td>\n",
       "      <td>131.75</td>\n",
       "      <td>5.861458</td>\n",
       "      <td>POINT (131.75000 37.95000)</td>\n",
       "    </tr>\n",
       "    <tr>\n",
       "      <th>500998</th>\n",
       "      <td>37.95</td>\n",
       "      <td>136.25</td>\n",
       "      <td>5.857105</td>\n",
       "      <td>POINT (136.25000 37.95000)</td>\n",
       "    </tr>\n",
       "    <tr>\n",
       "      <th>500999</th>\n",
       "      <td>37.95</td>\n",
       "      <td>139.35</td>\n",
       "      <td>7.016274</td>\n",
       "      <td>POINT (139.35000 37.95000)</td>\n",
       "    </tr>\n",
       "    <tr>\n",
       "      <th>501000</th>\n",
       "      <td>37.95</td>\n",
       "      <td>154.25</td>\n",
       "      <td>5.855022</td>\n",
       "      <td>POINT (154.25000 37.95000)</td>\n",
       "    </tr>\n",
       "    <tr>\n",
       "      <th>501001</th>\n",
       "      <td>37.95</td>\n",
       "      <td>154.35</td>\n",
       "      <td>7.025729</td>\n",
       "      <td>POINT (154.35000 37.95000)</td>\n",
       "    </tr>\n",
       "  </tbody>\n",
       "</table>\n",
       "<p>501002 rows × 4 columns</p>\n",
       "</div>"
      ],
      "text/plain": [
       "        Latitude  Longitude  VHRFC_LIS_FRD                      geometry\n",
       "0         -37.95    -143.25      11.821247  POINT (-143.25000 -37.95000)\n",
       "1         -37.95     -70.25      10.962107   POINT (-70.25000 -37.95000)\n",
       "2         -37.95     -64.85       5.436871   POINT (-64.85000 -37.95000)\n",
       "3         -37.95     -64.65       5.594469   POINT (-64.65000 -37.95000)\n",
       "4         -37.95     -63.65       6.793575   POINT (-63.65000 -37.95000)\n",
       "...          ...        ...            ...                           ...\n",
       "500997     37.95     131.75       5.861458    POINT (131.75000 37.95000)\n",
       "500998     37.95     136.25       5.857105    POINT (136.25000 37.95000)\n",
       "500999     37.95     139.35       7.016274    POINT (139.35000 37.95000)\n",
       "501000     37.95     154.25       5.855022    POINT (154.25000 37.95000)\n",
       "501001     37.95     154.35       7.025729    POINT (154.35000 37.95000)\n",
       "\n",
       "[501002 rows x 4 columns]"
      ]
     },
     "execution_count": 10,
     "metadata": {
      "tags": []
     },
     "output_type": "execute_result"
    }
   ],
   "source": [
    "#filter it with a threshold of 5 flashes\n",
    "df = df[df.VHRFC_LIS_FRD > 5] \n",
    "gdf = gpd.GeoDataFrame(df, crs=crs, geometry = gpd.points_from_xy(df.Longitude, df.Latitude))\n",
    "gdf.reset_index(inplace=True, drop=True)\n",
    "del df\n",
    "gdf"
   ]
  },
  {
   "cell_type": "markdown",
   "metadata": {
    "id": "fpPr5hJUPh7i"
   },
   "source": [
    "### The other climatology files - no dataframe\n",
    "\n",
    "monthly - VHRMC.nc, annual  - VHRAC.nc, diurnal - VHRDC.nc, seasonal- VHRSC.nc"
   ]
  },
  {
   "cell_type": "code",
   "execution_count": null,
   "metadata": {
    "id": "Gln58FQ5Ph7i",
    "outputId": "67132abb-e90f-4190-a547-5118c66eeac5"
   },
   "outputs": [
    {
     "data": {
      "text/plain": [
       "(12, 760, 3600)"
      ]
     },
     "execution_count": 11,
     "metadata": {
      "tags": []
     },
     "output_type": "execute_result"
    }
   ],
   "source": [
    "dataset = Dataset(file_path + 'VHRMC.nc', 'r')\n",
    "frd = dataset.variables['VHRMC_LIS_FRD'][:].data\n",
    "frd.shape"
   ]
  },
  {
   "cell_type": "code",
   "execution_count": null,
   "metadata": {
    "id": "C6jR_LXxPh7j",
    "outputId": "76a34246-a91a-494c-d31a-6d45e318bef0"
   },
   "outputs": [
    {
     "name": "stdout",
     "output_type": "stream",
     "text": [
      "odict_keys(['Longitude', 'Latitude', 'Month', 'VHRMC_LIS_FRD', 'VHRMC_LIS_VT'])\n",
      "('Month', 'Latitude', 'Longitude')\n",
      "(12, 760, 3600)\n"
     ]
    }
   ],
   "source": [
    "#explore the data\n",
    "print(dataset.variables.keys()) \n",
    "print(dataset.variables['VHRMC_LIS_FRD'].dimensions)\n",
    "print(dataset.variables['VHRMC_LIS_FRD'].shape)"
   ]
  },
  {
   "cell_type": "markdown",
   "metadata": {
    "id": "Hk6S5zZSPh7j"
   },
   "source": [
    "#### Create mask"
   ]
  },
  {
   "cell_type": "code",
   "execution_count": null,
   "metadata": {
    "id": "K6ZGUTi8Ph7j",
    "outputId": "ed3521a0-eb23-4411-bd52-711044928023"
   },
   "outputs": [
    {
     "data": {
      "text/plain": [
       "<matplotlib.image.AxesImage at 0x7f06356a0710>"
      ]
     },
     "execution_count": 13,
     "metadata": {
      "tags": []
     },
     "output_type": "execute_result"
    },
    {
     "data": {
      "image/png": "[encoded data removed]",
      "text/plain": [
       "<Figure size 432x288 with 1 Axes>"
      ]
     },
     "metadata": {
      "needs_background": "light",
      "tags": []
     },
     "output_type": "display_data"
    }
   ],
   "source": [
    "#we can mask the places where the flashes are constantly 0 (they sum up to 0)\n",
    "plt.imshow(np.sum(frd,0)==0)"
   ]
  },
  {
   "cell_type": "code",
   "execution_count": null,
   "metadata": {
    "id": "vAgDmX9lPh7k",
    "outputId": "1a506262-113f-4dec-836d-a5c12396c6dc"
   },
   "outputs": [
    {
     "data": {
      "text/plain": [
       "<matplotlib.image.AxesImage at 0x7f06355c8090>"
      ]
     },
     "execution_count": 14,
     "metadata": {
      "tags": []
     },
     "output_type": "execute_result"
    },
    {
     "data": {
      "image/png": "[encoded data removed]",
      "text/plain": [
       "<Figure size 432x288 with 1 Axes>"
      ]
     },
     "metadata": {
      "needs_background": "light",
      "tags": []
     },
     "output_type": "display_data"
    }
   ],
   "source": [
    "#create a mask, where the flashes are constantly zero:\n",
    "mask = np.asarray([np.sum(frd,0)==0])\n",
    "mask = mask.reshape(760, 3600)\n",
    "\n",
    "#create layers of masks, to match the data:\n",
    "masks = np.asarray([mask]*frd.shape[0])\n",
    "\n",
    "#apply the mask on the data, to mask the unimportant areas:\n",
    "frd_masked = np.ma.masked_where(masks==True, frd)\n",
    "frd_masked[masks==True] = np.nan\n",
    "\n",
    "#check grafically if what we did is correct:\n",
    "#the plot for sums-over-masked-values has to be the same as the above plot for sums-over-zeros\n",
    "plt.imshow(np.nansum(np.isnan(frd_masked), 0))"
   ]
  },
  {
   "cell_type": "markdown",
   "metadata": {
    "id": "U4vIL8fIPh7k"
   },
   "source": [
    "### Low Resolution Monthly Time Series (LRMTS) nc file"
   ]
  },
  {
   "cell_type": "code",
   "execution_count": null,
   "metadata": {
    "id": "u0vGg5OsPh7k"
   },
   "outputs": [],
   "source": [
    "frd = Dataset('./LIS_VHRES/data_climatology/LISOTD_LRMTS.nc', 'r').variables['LRMTS_COM_FR'][:].data"
   ]
  },
  {
   "cell_type": "markdown",
   "metadata": {
    "id": "3kGRtZfDPh7l"
   },
   "source": [
    "#### Slicing the data: \n",
    "we want to keep the measurements from LIS (tropicals and subtropicals)\n",
    "and exclude the ODT measurements in order to have more reliable results\n"
   ]
  },
  {
   "cell_type": "code",
   "execution_count": null,
   "metadata": {
    "id": "bA6js-RCPh7l",
    "outputId": "4012fc09-edc2-4a10-a651-820271a7a430"
   },
   "outputs": [
    {
     "name": "stdout",
     "output_type": "stream",
     "text": [
      "51 112\n",
      "21 112\n"
     ]
    },
    {
     "data": {
      "text/plain": [
       "(21, 112)"
      ]
     },
     "execution_count": 16,
     "metadata": {
      "tags": []
     },
     "output_type": "execute_result"
    }
   ],
   "source": [
    "#keep the tropicals and subtropicals: find the corresponding gridded latitudes for lat=[-38, 38]\n",
    "res=2.5\n",
    "zone=90\n",
    "\n",
    "gridded_latlon(38, 100)\n",
    "gridded_latlon(-38, 100)"
   ]
  },
  {
   "cell_type": "code",
   "execution_count": null,
   "metadata": {
    "id": "mA8U1az4Ph7l",
    "outputId": "0f0e3354-fb5b-4238-cabe-d9ec34bb01a1"
   },
   "outputs": [
    {
     "data": {
      "text/plain": [
       "(31, 144, 180)"
      ]
     },
     "execution_count": 17,
     "metadata": {
      "tags": []
     },
     "output_type": "execute_result"
    }
   ],
   "source": [
    "#keep the measurements from April 2000 onwards (LIS, without OTD): skip the first 20 months\n",
    "\n",
    "frd = frd[ 21:52, :, 60:]\n",
    "frd.shape"
   ]
  },
  {
   "cell_type": "code",
   "execution_count": null,
   "metadata": {
    "id": "Mo9cuPCbPh7m",
    "outputId": "1b7d3c09-6e2a-4d7c-c932-2c38f9359e5a"
   },
   "outputs": [
    {
     "data": {
      "text/plain": [
       "<matplotlib.image.AxesImage at 0x7f0635534c50>"
      ]
     },
     "execution_count": 18,
     "metadata": {
      "tags": []
     },
     "output_type": "execute_result"
    },
    {
     "data": {
      "image/png": "[encoded data removed]",
      "text/plain": [
       "<Figure size 432x288 with 1 Axes>"
      ]
     },
     "metadata": {
      "needs_background": "light",
      "tags": []
     },
     "output_type": "display_data"
    }
   ],
   "source": [
    "#take a look of the data\n",
    "plt.imshow(np.sum(frd,2)>=0.1)"
   ]
  },
  {
   "cell_type": "markdown",
   "metadata": {
    "id": "bRsDi1usPh7m"
   },
   "source": [
    "#### Mask the data"
   ]
  },
  {
   "cell_type": "code",
   "execution_count": null,
   "metadata": {
    "id": "kKVnhlC-Ph7m",
    "outputId": "b0216837-1cb3-473f-d87a-af1795f15ec3"
   },
   "outputs": [
    {
     "data": {
      "image/png": "[encoded data removed]",
      "text/plain": [
       "<Figure size 432x288 with 1 Axes>"
      ]
     },
     "metadata": {
      "needs_background": "light",
      "tags": []
     },
     "output_type": "display_data"
    }
   ],
   "source": [
    "#where are the flashes constantly very low? \n",
    "\n",
    "plt.close('all')\n",
    "plt.figure() \n",
    "ax = plt.axes(projection=ccrs.PlateCarree())\n",
    "ax.set_extent([-180, 180, -90, 90])\n",
    "ax.coastlines()\n",
    "\n",
    "ax.imshow(np.sum(frd,2)<=0.01, extent = [-180, 180, -38, 38])\n",
    "\n",
    "plt.show()"
   ]
  },
  {
   "cell_type": "code",
   "execution_count": null,
   "metadata": {
    "id": "M7jh8uQvPh7n"
   },
   "outputs": [],
   "source": [
    "mask = np.asarray([np.sum(frd, 2)<=0.01])"
   ]
  }
 ],
 "metadata": {
  "colab": {
   "name": "1a_Lightnings Data  Acquisition & Preprocess.ipynb",
   "provenance": []
  },
  "kernelspec": {
   "display_name": "Python 3 (ipykernel)",
   "language": "python",
   "name": "python3"
  },
  "language_info": {
   "codemirror_mode": {
    "name": "ipython",
    "version": 3
   },
   "file_extension": ".py",
   "mimetype": "text/x-python",
   "name": "python",
   "nbconvert_exporter": "python",
   "pygments_lexer": "ipython3",
   "version": "3.8.12"
  },
  "toc": {
   "base_numbering": 1,
   "nav_menu": {},
   "number_sections": true,
   "sideBar": true,
   "skip_h1_title": false,
   "title_cell": "Table of Contents",
   "title_sidebar": "Contents",
   "toc_cell": false,
   "toc_position": {},
   "toc_section_display": true,
   "toc_window_display": false
  },
  "varInspector": {
   "cols": {
    "lenName": 16,
    "lenType": 16,
    "lenVar": 40
   },
   "kernels_config": {
    "python": {
     "delete_cmd_postfix": "",
     "delete_cmd_prefix": "del ",
     "library": "var_list.py",
     "varRefreshCmd": "print(var_dic_list())"
    },
    "r": {
     "delete_cmd_postfix": ") ",
     "delete_cmd_prefix": "rm(",
     "library": "var_list.r",
     "varRefreshCmd": "cat(var_dic_list()) "
    }
   },
   "types_to_exclude": [
    "module",
    "function",
    "builtin_function_or_method",
    "instance",
    "_Feature"
   ],
   "window_display": false
  }
 },
 "nbformat": 4,
 "nbformat_minor": 1
}
