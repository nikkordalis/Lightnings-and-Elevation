{
 "cells": [
  {
   "cell_type": "code",
   "execution_count": 1,
   "metadata": {},
   "outputs": [
    {
     "name": "stdout",
     "output_type": "stream",
     "text": [
      "0.1.223\n"
     ]
    }
   ],
   "source": [
    "import ee\n",
    "print(ee.__version__)"
   ]
  },
  {
   "cell_type": "code",
   "execution_count": 2,
   "metadata": {},
   "outputs": [
    {
     "data": {
      "text/html": [
       "<p>To authorize access needed by Earth Engine, open the following\n",
       "        URL in a web browser and follow the instructions:</p>\n",
       "        <p><a href=https://accounts.google.com/o/oauth2/auth?client_id=517222506229-vsmmajv00ul0bs7p89v5m89qs8eb9359.apps.googleusercontent.com&scope=https%3A%2F%2Fwww.googleapis.com%2Fauth%2Fearthengine+https%3A%2F%2Fwww.googleapis.com%2Fauth%2Fdevstorage.full_control&redirect_uri=urn%3Aietf%3Awg%3Aoauth%3A2.0%3Aoob&response_type=code&code_challenge=dflQknT1LeAFo6vSO8sA43Ntir54RZQUhuWzH6X9qfk&code_challenge_method=S256>https://accounts.google.com/o/oauth2/auth?client_id=517222506229-vsmmajv00ul0bs7p89v5m89qs8eb9359.apps.googleusercontent.com&scope=https%3A%2F%2Fwww.googleapis.com%2Fauth%2Fearthengine+https%3A%2F%2Fwww.googleapis.com%2Fauth%2Fdevstorage.full_control&redirect_uri=urn%3Aietf%3Awg%3Aoauth%3A2.0%3Aoob&response_type=code&code_challenge=dflQknT1LeAFo6vSO8sA43Ntir54RZQUhuWzH6X9qfk&code_challenge_method=S256</a></p>\n",
       "        <p>The authorization workflow will generate a code, which you\n",
       "        should paste in the box below</p>\n",
       "        "
      ],
      "text/plain": [
       "<IPython.core.display.HTML object>"
      ]
     },
     "metadata": {},
     "output_type": "display_data"
    },
    {
     "name": "stdout",
     "output_type": "stream",
     "text": [
      "Enter verification code: 4/1wFZKafWxHBXEkNERIa32kwhKWYsF4VdyRfEFXUtlaDvjrAPCTugjg8\n",
      "\n",
      "Successfully saved authorization token.\n"
     ]
    }
   ],
   "source": [
    "# Trigger the authentication flow.\n",
    "ee.Authenticate()\n",
    "\n",
    "# Initialize the library.\n",
    "ee.Initialize()"
   ]
  },
  {
   "cell_type": "code",
   "execution_count": 3,
   "metadata": {},
   "outputs": [
    {
     "name": "stdout",
     "output_type": "stream",
     "text": [
      "Min elevation (m): -216\n"
     ]
    }
   ],
   "source": [
    "dem = ee.Image('USGS/SRTMGL1_003')\n",
    "xy = ee.Geometry.Point([35.55,32.85 ])\n",
    "elev = dem.sample(xy, 30).first().get('elevation').getInfo()\n",
    "# Check - Print the minimum elevation.\n",
    "print('Min elevation (m):', elev)"
   ]
  },
  {
   "cell_type": "code",
   "execution_count": 4,
   "metadata": {},
   "outputs": [
    {
     "data": {
      "text/html": [
       "<img src=\"https://earthengine.googleapis.com/v1alpha/projects/earthengine-legacy/thumbnails/6195a5e67b4188b8ab51f7567a0b265a-95678013f0146d35aa46ef5ab6ff0179:getPixels\"/>"
      ],
      "text/plain": [
       "<IPython.core.display.Image object>"
      ]
     },
     "execution_count": 4,
     "metadata": {},
     "output_type": "execute_result"
    }
   ],
   "source": [
    "# Import the Image function from the IPython.display module. \n",
    "from IPython.display import Image\n",
    "\n",
    "# Display a thumbnail of global elevation.\n",
    "Image(url = dem.updateMask(dem.gt(0))\n",
    "  .getThumbUrl({'min': -216, 'max': 8848, 'dimensions': 712,\n",
    "                'palette': ['006633', 'E5FFCC', '662A00', 'D8D8D8', 'F5F5F5']}))"
   ]
  },
  {
   "cell_type": "code",
   "execution_count": 5,
   "metadata": {},
   "outputs": [],
   "source": [
    "import pandas as pd\n",
    "import geopandas as gpd\n",
    "import shapely.wkt\n",
    "crs = {'init': 'epsg:4326'}\n",
    "import json\n",
    "import pandas as pd\n",
    "import numpy as np\n",
    "import geopandas as gpd\n",
    "crs = {'init': 'epsg:4326'}\n",
    "\n",
    "import shapely.wkt\n",
    "import cartopy.crs as ccrs\n",
    "from matplotlib.colors import LogNorm\n",
    "\n",
    "\n",
    "fid = '/users/nikos/Desktop/potsdam/Big_data/Project_Big_Data/elevation_nan.csv'\n",
    "df = pd.read_csv(fid)\n",
    "gdf = gpd.GeoDataFrame(df, crs=crs, geometry = gpd.points_from_xy(df.Longitude, df.Latitude))"
   ]
  },
  {
   "cell_type": "code",
   "execution_count": 6,
   "metadata": {},
   "outputs": [
    {
     "data": {
      "text/html": [
       "<div>\n",
       "<style scoped>\n",
       "    .dataframe tbody tr th:only-of-type {\n",
       "        vertical-align: middle;\n",
       "    }\n",
       "\n",
       "    .dataframe tbody tr th {\n",
       "        vertical-align: top;\n",
       "    }\n",
       "\n",
       "    .dataframe thead th {\n",
       "        text-align: right;\n",
       "    }\n",
       "</style>\n",
       "<table border=\"1\" class=\"dataframe\">\n",
       "  <thead>\n",
       "    <tr style=\"text-align: right;\">\n",
       "      <th></th>\n",
       "      <th>Unnamed: 0</th>\n",
       "      <th>Latitude</th>\n",
       "      <th>Longitude</th>\n",
       "      <th>VHRFC_LIS_FRD</th>\n",
       "      <th>geometry</th>\n",
       "      <th>elevation</th>\n",
       "    </tr>\n",
       "  </thead>\n",
       "  <tbody>\n",
       "    <tr>\n",
       "      <th>0</th>\n",
       "      <td>25</td>\n",
       "      <td>-37.95</td>\n",
       "      <td>-143.25</td>\n",
       "      <td>11.821247</td>\n",
       "      <td>POINT (-143.25000 -37.95000)</td>\n",
       "      <td>NaN</td>\n",
       "    </tr>\n",
       "    <tr>\n",
       "      <th>1</th>\n",
       "      <td>64</td>\n",
       "      <td>-37.95</td>\n",
       "      <td>-70.25</td>\n",
       "      <td>10.962107</td>\n",
       "      <td>POINT (-70.25000 -37.95000)</td>\n",
       "      <td>1131.0</td>\n",
       "    </tr>\n",
       "    <tr>\n",
       "      <th>2</th>\n",
       "      <td>102</td>\n",
       "      <td>-37.95</td>\n",
       "      <td>-64.85</td>\n",
       "      <td>5.436871</td>\n",
       "      <td>POINT (-64.85000 -37.95000)</td>\n",
       "      <td>240.0</td>\n",
       "    </tr>\n",
       "    <tr>\n",
       "      <th>3</th>\n",
       "      <td>104</td>\n",
       "      <td>-37.95</td>\n",
       "      <td>-64.65</td>\n",
       "      <td>5.594469</td>\n",
       "      <td>POINT (-64.65000 -37.95000)</td>\n",
       "      <td>210.0</td>\n",
       "    </tr>\n",
       "    <tr>\n",
       "      <th>4</th>\n",
       "      <td>113</td>\n",
       "      <td>-37.95</td>\n",
       "      <td>-63.65</td>\n",
       "      <td>6.793575</td>\n",
       "      <td>POINT (-63.65000 -37.95000)</td>\n",
       "      <td>166.0</td>\n",
       "    </tr>\n",
       "  </tbody>\n",
       "</table>\n",
       "</div>"
      ],
      "text/plain": [
       "   Unnamed: 0  Latitude  Longitude  VHRFC_LIS_FRD  \\\n",
       "0          25    -37.95    -143.25      11.821247   \n",
       "1          64    -37.95     -70.25      10.962107   \n",
       "2         102    -37.95     -64.85       5.436871   \n",
       "3         104    -37.95     -64.65       5.594469   \n",
       "4         113    -37.95     -63.65       6.793575   \n",
       "\n",
       "                       geometry  elevation  \n",
       "0  POINT (-143.25000 -37.95000)        NaN  \n",
       "1   POINT (-70.25000 -37.95000)     1131.0  \n",
       "2   POINT (-64.85000 -37.95000)      240.0  \n",
       "3   POINT (-64.65000 -37.95000)      210.0  \n",
       "4   POINT (-63.65000 -37.95000)      166.0  "
      ]
     },
     "execution_count": 6,
     "metadata": {},
     "output_type": "execute_result"
    }
   ],
   "source": [
    "gdf.head()"
   ]
  },
  {
   "cell_type": "code",
   "execution_count": 21,
   "metadata": {},
   "outputs": [
    {
     "data": {
      "text/plain": [
       "232.52394"
      ]
     },
     "execution_count": 21,
     "metadata": {},
     "output_type": "execute_result"
    }
   ],
   "source": [
    "#Threshold for the flash rate greater than 50\n",
    "gdf50=gdf[gdf['VHRFC_LIS_FRD'] > 20]\n",
    "gdf.VHRFC_LIS_FRD.max()"
   ]
  },
  {
   "cell_type": "code",
   "execution_count": 22,
   "metadata": {},
   "outputs": [],
   "source": [
    "gdf50.to_csv('FRD_elev_20.csv')"
   ]
  },
  {
   "cell_type": "code",
   "execution_count": 23,
   "metadata": {},
   "outputs": [],
   "source": [
    "fid = '/users/nikos/Desktop/potsdam/Big_data/Project_Big_Data/FRD_elev_20.csv'\n",
    "df = pd.read_csv(fid)\n",
    "gdf = gpd.GeoDataFrame(df, crs=crs, geometry = gpd.points_from_xy(df.Longitude, df.Latitude))"
   ]
  },
  {
   "cell_type": "code",
   "execution_count": 24,
   "metadata": {},
   "outputs": [
    {
     "data": {
      "text/plain": [
       "[-36.35, -65.14999999999998]"
      ]
     },
     "execution_count": 24,
     "metadata": {},
     "output_type": "execute_result"
    }
   ],
   "source": [
    "locations = gdf[['Latitude', 'Longitude']]\n",
    "locationlist = locations.values.tolist()\n",
    "len(locationlist)\n",
    "locationlist[7]"
   ]
  },
  {
   "cell_type": "code",
   "execution_count": 25,
   "metadata": {},
   "outputs": [
    {
     "data": {
      "text/plain": [
       "232.52393999999998"
      ]
     },
     "execution_count": 25,
     "metadata": {},
     "output_type": "execute_result"
    }
   ],
   "source": [
    "gdf.VHRFC_LIS_FRD.max()"
   ]
  },
  {
   "cell_type": "code",
   "execution_count": 35,
   "metadata": {},
   "outputs": [],
   "source": [
    "#categories for the flashes rate\n",
    "\n",
    "def magcolors(counter):\n",
    "    if counter['VHRFC_LIS_FRD'] < 25:\n",
    "        return 'black'\n",
    "    if counter['VHRFC_LIS_FRD'] < 30:\n",
    "        return 'midnightblue'\n",
    "    if counter['VHRFC_LIS_FRD'] < 35:\n",
    "        return 'navy'\n",
    "    if counter['VHRFC_LIS_FRD'] < 40:\n",
    "        return 'darkblue'\n",
    "    elif counter['VHRFC_LIS_FRD']< 50:\n",
    "        return 'blue'\n",
    "    if counter['VHRFC_LIS_FRD'] < 60:\n",
    "        return 'cornflowerblue'\n",
    "    if counter['VHRFC_LIS_FRD'] < 70:\n",
    "        return 'royalblue'\n",
    "    if counter['VHRFC_LIS_FRD'] < 80:\n",
    "        return 'deepskyblue'\n",
    "    elif counter['VHRFC_LIS_FRD'] < 130:\n",
    "        return 'cyan'\n",
    "    elif counter['VHRFC_LIS_FRD'] < 200:\n",
    "        return 'lightskyblue'\n",
    "    elif counter['VHRFC_LIS_FRD'] <233:\n",
    "        return 'aliceblue'\n",
    "    else:\n",
    "        return 'gold'\n",
    "gdf['color'] = gdf.apply(magcolors, axis=1)"
   ]
  },
  {
   "cell_type": "code",
   "execution_count": 38,
   "metadata": {
    "scrolled": false
   },
   "outputs": [
    {
     "name": "stderr",
     "output_type": "stream",
     "text": [
      "/Users/nikos/anaconda3/envs/eq_env/lib/python3.7/site-packages/ipykernel_launcher.py:49: UserWarning: color argument of Icon should be one of: {'red', 'darkblue', 'pink', 'gray', 'lightblue', 'lightred', 'beige', 'cadetblue', 'green', 'white', 'darkgreen', 'blue', 'black', 'purple', 'lightgray', 'lightgreen', 'darkpurple', 'darkred', 'orange'}.\n"
     ]
    }
   ],
   "source": [
    "# Import the Folium library.\n",
    "import folium\n",
    "from folium import plugins\n",
    "import folium.plugins as plugins\n",
    "import branca.colormap as cm\n",
    "\n",
    "\n",
    "# Define a method for displaying Earth Engine image tiles to folium map.\n",
    "def add_ee_layer(self, ee_image_object, vis_params, name):\n",
    "  map_id_dict = ee.Image(ee_image_object).getMapId(vis_params)\n",
    "  folium.raster_layers.TileLayer(\n",
    "    tiles = map_id_dict['tile_fetcher'].url_format,\n",
    "    attr = 'Map Data &copy; <a href=\"https://earthengine.google.com/\">Google Earth Engine</a>',\n",
    "    name = name,\n",
    "    overlay = True,\n",
    "    control = True\n",
    "  ).add_to(self)\n",
    "\n",
    "# Add EE drawing method to folium.\n",
    "folium.Map.add_ee_layer = add_ee_layer\n",
    "\n",
    "# Set visualization parameters.\n",
    "vis_params = {\n",
    "  'min': 0,\n",
    "  'max': 8848,\n",
    "  'palette': ['407115','4c8619','589c1d','64b121','70c625','7dd82d','8adc43', 'ffffd4','fee391', 'fec44f','fe9929',\n",
    "              'dc9543','d8882d','c67b25','b16e21','9c611d','865319','714615','a5a5a5']}\n",
    "\n",
    "\n",
    "vis_params2 = {\n",
    "  'min': 20,\n",
    "  'max': 233,\n",
    "  'palette': ['black','midnightblue','navy','darkblue','blue','royalblue','cornflowerblue','deepskyblue','cyan','lightskyblue','aliceblue']}\n",
    "\n",
    "\n",
    "\n",
    "# Create a folium map object.\n",
    "my_map = folium.Map(location=[30.31, -2], zoom_start=3,tiles='Stamen Terrain')\n",
    "\n",
    "    \n",
    "from folium.plugins import MarkerCluster\n",
    "my_map = folium.Map(location=[30.31, -2], tiles='CartoDB positron', zoom_start=3)\n",
    "marker_cluster = MarkerCluster().add_to(my_map)\n",
    "\n",
    "\n",
    "\n",
    "\n",
    "for point in range(0, len(locationlist)):\n",
    "    folium.Circle( locationlist[point], popup=gdf['VHRFC_LIS_FRD'][point],icon=folium.Icon(color=gdf[\"color\"][point], icon_color=gdf['color'][point], icon='glyphicon-star', angle=0),\n",
    "     radius=1000,\n",
    "    color=gdf[\"color\"][point],\n",
    "    fill=True,\n",
    "    #fill_color='green'\n",
    "    ).add_to(my_map)\n",
    "\n",
    "\n",
    "\n",
    "\n",
    "folium.raster_layers.TileLayer(\n",
    "    tiles='http://{s}.google.com/vt/lyrs=s&x={x}&y={y}&z={z}',\n",
    "    attr='google',\n",
    "    name='google maps',\n",
    "    max_zoom=50,\n",
    "    subdomains=['mt0', 'mt1', 'mt2', 'mt3'],\n",
    "    overlay=False,\n",
    "    control=True,\n",
    ").add_to(my_map)\n",
    "\n",
    "\n",
    "\n",
    "\n",
    "colormap = cm.LinearColormap(colors=['black','midnightblue','navy','darkblue','blue','royalblue','cornflowerblue','deepskyblue','cyan','lightskyblue','aliceblue'],\n",
    "                             index=[25,30,35 ,40,50, 60,70, 80, 130,200,233],vmin=20,vmax=233)\n",
    "colormap.caption = 'FRD [flashes / sq.Km]'\n",
    "colormap.add_to(my_map)\n",
    "\n",
    "\n",
    "\n",
    "my_map.add_ee_layer(dem.updateMask(dem.gt(0)), vis_params, 'DEM')\n",
    "\n",
    "\n",
    "colormap = cm.LinearColormap(colors=['#407115','#4c8619','#589c1d','#64b121','#70c625','#7dd82d', '#8adc43','#ffffd4','#fee391','#fec44f',\n",
    "                                     '#fe9929','#dc9543','#d8882d','#c67b25','#b16e21','#9c611d','#865319','#714615','#a5a5a5'],\n",
    "                             index=[0,500,1000,1500, 2000,2500,3000,3500,4000,4500, 5000,5500,6000,6500,7000,7500,8000,8500,8848],vmin=0,vmax=8848)\n",
    "colormap.caption = 'Dem [m]'\n",
    "colormap.add_to(my_map)\n",
    "\n",
    "\n",
    "# Add a layer control panel to the map.\n",
    "my_map.add_child(folium.LayerControl())\n",
    "\n",
    "\n",
    "\n",
    "# Display the map.\n",
    "#display(my_map)\n",
    "\n",
    "\n",
    "\n",
    "my_map.save('global lightings 2.html')"
   ]
  },
  {
   "cell_type": "code",
   "execution_count": null,
   "metadata": {},
   "outputs": [],
   "source": []
  }
 ],
 "metadata": {
  "kernelspec": {
   "display_name": "Python 3 (ipykernel)",
   "language": "python",
   "name": "python3"
  },
  "language_info": {
   "codemirror_mode": {
    "name": "ipython",
    "version": 3
   },
   "file_extension": ".py",
   "mimetype": "text/x-python",
   "name": "python",
   "nbconvert_exporter": "python",
   "pygments_lexer": "ipython3",
   "version": "3.8.12"
  },
  "toc": {
   "base_numbering": 1,
   "nav_menu": {},
   "number_sections": true,
   "sideBar": true,
   "skip_h1_title": false,
   "title_cell": "Table of Contents",
   "title_sidebar": "Contents",
   "toc_cell": false,
   "toc_position": {},
   "toc_section_display": true,
   "toc_window_display": false
  },
  "varInspector": {
   "cols": {
    "lenName": 16,
    "lenType": 16,
    "lenVar": 40
   },
   "kernels_config": {
    "python": {
     "delete_cmd_postfix": "",
     "delete_cmd_prefix": "del ",
     "library": "var_list.py",
     "varRefreshCmd": "print(var_dic_list())"
    },
    "r": {
     "delete_cmd_postfix": ") ",
     "delete_cmd_prefix": "rm(",
     "library": "var_list.r",
     "varRefreshCmd": "cat(var_dic_list()) "
    }
   },
   "types_to_exclude": [
    "module",
    "function",
    "builtin_function_or_method",
    "instance",
    "_Feature"
   ],
   "window_display": false
  }
 },
 "nbformat": 4,
 "nbformat_minor": 4
}
